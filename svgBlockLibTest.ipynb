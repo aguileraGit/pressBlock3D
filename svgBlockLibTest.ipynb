{
 "cells": [
  {
   "cell_type": "code",
   "execution_count": 1,
   "id": "40069fe3-eda6-46db-965c-60f8bfc45be2",
   "metadata": {},
   "outputs": [
    {
     "name": "stdout",
     "output_type": "stream",
     "text": [
      "Overwriting auto display for cadquery Workplane and Shape\n",
      "\n",
      "Enabling jupyter_cadquery replay\n"
     ]
    }
   ],
   "source": [
    "import svgBlockLib\n",
    "\n",
    "from jupyter_cadquery import (\n",
    "    PartGroup, Part, Edges, Faces, Vertices, show,\n",
    "    close_viewer, close_viewers, get_viewer, open_viewer, set_defaults, get_defaults\n",
    ")\n",
    "\n",
    "from jupyter_cadquery.replay import replay, enable_replay, disable_replay, reset_replay\n",
    "\n",
    "set_defaults(axes=True, timeit=False, show_parent=False)\n",
    "\n",
    "enable_replay(False, False)\n",
    "show_object = replay\n",
    "\n",
    "cv = open_viewer(\"3dViewer\", anchor=\"right\", height=1024)"
   ]
  },
  {
   "cell_type": "code",
   "execution_count": 2,
   "id": "22cee1b4-21a7-4da9-9243-4309de65f92f",
   "metadata": {},
   "outputs": [],
   "source": [
    "blk = svgBlockLib.blkLibrary()"
   ]
  },
  {
   "cell_type": "code",
   "execution_count": 3,
   "id": "8e45a24a-68cd-4974-a093-577fcdf267b6",
   "metadata": {},
   "outputs": [
    {
     "name": "stdout",
     "output_type": "stream",
     "text": [
      "Paths Found: 1\n",
      "826.9414306840708 353.5336921039335\n",
      "Estimated Width: 826.94 - Estimated Height: 353.53\n",
      "B\n"
     ]
    }
   ],
   "source": [
    "#Import from file. Could be web or others in the future\n",
    "#fileName = 'noun-gutenberg-press-86670-cleaned.svg'\n",
    "#fileName = 'noun-houseplants-886781-edited.svg'\n",
    "fileName = 'noun-ornaments-714185-cleaned.svg'\n",
    "#fileName = 'maliaBirthday/noun-queen-4902988.svg'\n",
    "#fileName = 'maliaBirthday/noun-corner-ornamental-6231875.svg'\n",
    "#fileName = 'noun-barn-6921172.svg'\n",
    "\n",
    "blk.readSVGFromFile(fileName)\n",
    "\n",
    "#Parse using svgpathtools and 'return' paths and attribs.\n",
    "#Could probably have some checks to make sure paths exist and are closed?\n",
    "blk.parseSVG()\n",
    "\n",
    "#See how many paths were parsed\n",
    "print('Paths Found: %s' % format(blk.pathCount))\n",
    "\n",
    "#Get Estimated width and height\n",
    "blk.estimateSVGSize()\n",
    "print('Estimated Width: {:.2f} - Estimated Height: {:.2f}'.format(blk.estimatedWidth, blk.estimatedHeight))\n",
    "\n",
    "#Skip paths. Helpful for testing or omitting paths. \n",
    "#Needs to be tested\n",
    "#blk.skipPathNumber.append([100,200])\n",
    "\n",
    "#Get largest w/h value and set neckHeight before extruding\n",
    "# Also sets the scale for use later on\n",
    "if max(blk.estimatedHeight, blk.estimatedWidth) < 100:\n",
    "    print('A')\n",
    "    blk.neckHeight = 2\n",
    "    blk.setScale(1)\n",
    "    blk.feetCutOutPercentage = 0.08\n",
    "    blk.filletAmount = 0.02\n",
    "elif max(blk.estimatedHeight, blk.estimatedWidth) < 1000:\n",
    "    print('B')\n",
    "    blk.neckHeight = 20\n",
    "    blk.setScale(10)\n",
    "    blk.feetCutOutPercentage = 0.10\n",
    "    blk.filletAmount = 0.2\n",
    "elif max(blk.estimatedHeight, blk.estimatedWidth) < 10000:\n",
    "    print('C')\n",
    "    blk.neckHeight = 200\n",
    "    blk.setScale(100)\n",
    "    blk.feetCutOutPercentage = 0.12\n",
    "    blk.filletAmount = 2\n",
    "else:\n",
    "    print('D')\n",
    "    blk.neckHeight = 2000\n",
    "    blk.setScale(1000)\n",
    "    blk.feetCutOutPercentage = 0.14\n",
    "    blk.filletAmount = 20\n",
    "\n",
    "#Before translating from 2D to 3D, the neck height must be set\n",
    "# Need to rethink as the scale isn't set yet. Circular dependency!\n",
    "#blk.neckHeight = 2\n",
    "\n",
    "#Do the actual translation from 2D to 3D\n",
    "blk.translate2Dto3D()\n",
    "\n",
    "#show_object(blk.base)"
   ]
  },
  {
   "cell_type": "code",
   "execution_count": 4,
   "id": "59d8b569-1103-4b56-b3c8-157794b60093",
   "metadata": {},
   "outputs": [
    {
     "name": "stdout",
     "output_type": "stream",
     "text": [
      "Block Width:  3.3207884232352463 in\n",
      "Block Height 1.4197022289370553 in\n",
      "843.4802595017526\n",
      "360.604366150012\n"
     ]
    }
   ],
   "source": [
    "#Add some buffer space around the 2D SVG. Must be >1.0. \n",
    "#Must be called before building body\n",
    "blk.xLenAdj = 1.02\n",
    "blk.yLenAdj = 1.02\n",
    "\n",
    "#Draw a box around the 3D SVG to get actual size.\n",
    "blk.buildBoundingBox()\n",
    "\n",
    "#With the box built, we can get our height and width\n",
    "print('Block Width: ', blk.width/blk.scaleBy/25.4, \"in\")\n",
    "print('Block Height', blk.height/blk.scaleBy/25.4, \"in\")\n",
    "\n",
    "print(blk.width)\n",
    "print(blk.height)\n",
    "\n",
    "#Fillet outer edges. This value is usually close to the scale set below\n",
    "# It is updated when setScale is called by multiplying filletAmount by\n",
    "# the scale set\n",
    "#blk.filletAmount = 0.01\n",
    "\n",
    "#Parsing SVG will provide the Height/Width if listed.\n",
    "#If the SVG is too large, the 3D block can be scaled. Ideally by factor of 10.\n",
    "# Must call doMath to generate values\n",
    "#blk.setScale(10)\n",
    "\n",
    "#With the scale set, start calculating heights and widths\n",
    "blk.doMath()\n",
    "\n",
    "#Extrude basic block\n",
    "blk.buildBody()"
   ]
  },
  {
   "cell_type": "code",
   "execution_count": 5,
   "id": "8f3a35d8-fcbf-48a2-84ee-53e4c41af0ad",
   "metadata": {},
   "outputs": [],
   "source": [
    "'''\n",
    "This section pertains to the 3D portion of the process\n",
    "\n",
    "Need to check if hollowBody function needs to create a second \n",
    "BoundingBox or if previous box can be used. This could allow for\n",
    "x/yWallThickness to be defined earlier in the process.\n",
    "\n",
    "feetCutOut is harder since it uses the X Face to calculate the\n",
    "different values.\n",
    "'''\n",
    "\n",
    "#Adjust the x/y of the hollow box to be cut out. This is a percentage\n",
    "# of the overal x/y of the block body. Must be < 1. Default: 0.8\n",
    "# The smaller the number, the larger the hollow area\n",
    "blk.xhollowPercentage = 0.8\n",
    "blk.yhollowPercentage = 0.8\n",
    "\n",
    "#\n",
    "blk.hollowBody()\n",
    "blk.createAndCutPyramid()\n",
    "\n",
    "#Height of the feet cutout can be adjusted. This is in percentage\n",
    "# of the total block height. This is usually a small number <0.2\n",
    "#blk.feetCutOutPercentage = 0.10\n",
    "blk.cutFeet()\n",
    "\n",
    "#Smooth out the block edges a bit\n",
    "blk.smoothOuterEdges()\n",
    "\n",
    "#Export to STL file. If scale is anything by 1, it will scale the STL.\n",
    "# STL only needs to be scaled in the Z direction. By default, it'll\n",
    "# scale by XYZ.\n",
    "#blk.exportSTL('corner')\n",
    "\n",
    "#https://stackoverflow.com/questions/65241421/scaling-stl-mesh-object-in-python"
   ]
  },
  {
   "cell_type": "code",
   "execution_count": 34,
   "id": "0bc7896d-798c-4564-badb-0ff07af47b94",
   "metadata": {},
   "outputs": [
    {
     "name": "stdout",
     "output_type": "stream",
     "text": [
      "(0, 1, 1)\n",
      "{'width': 600, 'height': 400, 'marginLeft': 60, 'marginTop': 60, 'showAxes': False, 'projectionDir': (0, 1, 1), 'strokeWidth': 1.6, 'strokeColor': (0, 0, 0), 'hiddenColor': (120, 120, 120), 'showHidden': True}\n",
      "svgs/59449272-379d-4f99-8329-0c4e4d5676b5.svg\n"
     ]
    }
   ],
   "source": [
    "#Export to SVG and display SVG name\n",
    "#0,0,1 - top\n",
    "#0,0,-1 - bottom\n",
    "#0.5, 0.5, 0.5 - iso\n",
    "#left: 1,0,0 but rotate\n",
    "\n",
    "print( blk.exportSVG(projectionDir=(0, 1, 1),\n",
    "                     strokeColor=(0,0,0),\n",
    "                     strokeWidth=1.6,\n",
    "                     hiddenColor=(120,120,120),\n",
    "                     #includeGrid=True,\n",
    "                     #view_vector=(0.612375, 0.612375, -0.5) \n",
    "                    ))"
   ]
  },
  {
   "cell_type": "code",
   "execution_count": 7,
   "id": "ec32f09c-e69e-48f8-924a-fc7c230e95b0",
   "metadata": {},
   "outputs": [
    {
     "name": "stdout",
     "output_type": "stream",
     "text": [
      "Use the multi select box below to select one or more steps you want to examine\n"
     ]
    },
    {
     "data": {
      "application/vnd.jupyter.widget-view+json": {
       "model_id": "0a4e3a59eee24e9ab2675e924c73f839",
       "version_major": 2,
       "version_minor": 0
      },
      "text/plain": [
       "HBox(children=(SelectMultiple(_dom_classes=('monospace',), index=(31,), layout=Layout(width='600px'), options=…"
      ]
     },
     "metadata": {},
     "output_type": "display_data"
    },
    {
     "data": {
      "text/plain": [
       "<jupyter_cadquery.replay.Replay at 0x7520dd5922c0>"
      ]
     },
     "execution_count": 7,
     "metadata": {},
     "output_type": "execute_result"
    }
   ],
   "source": [
    "show_object(blk.base)"
   ]
  },
  {
   "cell_type": "code",
   "execution_count": null,
   "id": "9f2f3226-8ac0-4e82-84a1-49091c162669",
   "metadata": {},
   "outputs": [],
   "source": []
  }
 ],
 "metadata": {
  "kernelspec": {
   "display_name": "Python 3 (ipykernel)",
   "language": "python",
   "name": "python3"
  },
  "language_info": {
   "codemirror_mode": {
    "name": "ipython",
    "version": 3
   },
   "file_extension": ".py",
   "mimetype": "text/x-python",
   "name": "python",
   "nbconvert_exporter": "python",
   "pygments_lexer": "ipython3",
   "version": "3.10.14"
  }
 },
 "nbformat": 4,
 "nbformat_minor": 5
}
