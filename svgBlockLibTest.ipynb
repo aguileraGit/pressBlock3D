{
 "cells": [
  {
   "cell_type": "code",
   "execution_count": 1,
   "id": "40069fe3-eda6-46db-965c-60f8bfc45be2",
   "metadata": {},
   "outputs": [
    {
     "name": "stdout",
     "output_type": "stream",
     "text": [
      "Overwriting auto display for cadquery Workplane and Shape\n",
      "\n",
      "Enabling jupyter_cadquery replay\n"
     ]
    }
   ],
   "source": [
    "import svgBlockLib\n",
    "\n",
    "from jupyter_cadquery import (\n",
    "    PartGroup, Part, Edges, Faces, Vertices, show,\n",
    "    close_viewer, close_viewers, get_viewer, open_viewer, set_defaults, get_defaults\n",
    ")\n",
    "\n",
    "from jupyter_cadquery.replay import replay, enable_replay, disable_replay, reset_replay\n",
    "\n",
    "set_defaults(axes=True, timeit=False, show_parent=False)\n",
    "\n",
    "enable_replay(False, False)\n",
    "show_object = replay\n",
    "\n",
    "cv = open_viewer(\"3dViewer\", anchor=\"right\", height=1024)"
   ]
  },
  {
   "cell_type": "code",
   "execution_count": 2,
   "id": "22cee1b4-21a7-4da9-9243-4309de65f92f",
   "metadata": {},
   "outputs": [],
   "source": [
    "blk = svgBlockLib.blkLibrary()"
   ]
  },
  {
   "cell_type": "code",
   "execution_count": 3,
   "id": "8f3a35d8-fcbf-48a2-84ee-53e4c41af0ad",
   "metadata": {},
   "outputs": [
    {
     "name": "stdout",
     "output_type": "stream",
     "text": [
      "No SVG Height/Width defined\n",
      "Paths Found: 4\n"
     ]
    },
    {
     "ename": "AttributeError",
     "evalue": "'numpy.ndarray' object has no attribute 'points'",
     "output_type": "error",
     "traceback": [
      "\u001b[0;31m---------------------------------------------------------------------------\u001b[0m",
      "\u001b[0;31mAttributeError\u001b[0m                            Traceback (most recent call last)",
      "Cell \u001b[0;32mIn[3], line 67\u001b[0m\n\u001b[1;32m     62\u001b[0m blk\u001b[38;5;241m.\u001b[39msmoothOuterEdges()\n\u001b[1;32m     64\u001b[0m \u001b[38;5;66;03m#Export to STL file. If scale is anything by 1, it will scale the STL.\u001b[39;00m\n\u001b[1;32m     65\u001b[0m \u001b[38;5;66;03m# STL only needs to be scaled in the Z direction. By default, it'll\u001b[39;00m\n\u001b[1;32m     66\u001b[0m \u001b[38;5;66;03m# scale by XYZ.\u001b[39;00m\n\u001b[0;32m---> 67\u001b[0m \u001b[43mblk\u001b[49m\u001b[38;5;241;43m.\u001b[39;49m\u001b[43mexportSTL\u001b[49m\u001b[43m(\u001b[49m\u001b[43m)\u001b[49m\n\u001b[1;32m     69\u001b[0m \u001b[38;5;66;03m#https://stackoverflow.com/questions/65241421/scaling-stl-mesh-object-in-python\u001b[39;00m\n",
      "File \u001b[0;32m~/svgBlockLib/svgBlockLib.py:292\u001b[0m, in \u001b[0;36mblkLibrary.exportSTL\u001b[0;34m(self, stlName, axis)\u001b[0m\n\u001b[1;32m    286\u001b[0m tempMesh \u001b[38;5;241m=\u001b[39m tempMesh\u001b[38;5;241m.\u001b[39mpoints \u001b[38;5;241m*\u001b[39m \u001b[38;5;241m2.0\u001b[39m\n\u001b[1;32m    288\u001b[0m \u001b[38;5;66;03m#Save\u001b[39;00m\n\u001b[1;32m    289\u001b[0m \u001b[38;5;66;03m#tempMesh.save(stlName, mode=stl.Mode.ASCII)\u001b[39;00m\n\u001b[1;32m    290\u001b[0m \n\u001b[1;32m    291\u001b[0m \u001b[38;5;66;03m# Create a new Mesh object with the scaled points and same triangles as before\u001b[39;00m\n\u001b[0;32m--> 292\u001b[0m new_mesh \u001b[38;5;241m=\u001b[39m mesh\u001b[38;5;241m.\u001b[39mMesh(np\u001b[38;5;241m.\u001b[39mzeros_like(\u001b[43mtempMesh\u001b[49m\u001b[38;5;241;43m.\u001b[39;49m\u001b[43mpoints\u001b[49m), np\u001b[38;5;241m.\u001b[39mones_like(tempMesh\u001b[38;5;241m.\u001b[39mvectors), tempMesh\u001b[38;5;241m.\u001b[39mvectors)\n\u001b[1;32m    294\u001b[0m \u001b[38;5;66;03m# Export the scaled STL file to 'output.stl'\u001b[39;00m\n\u001b[1;32m    295\u001b[0m new_mesh\u001b[38;5;241m.\u001b[39mwrite(stlName)\n",
      "\u001b[0;31mAttributeError\u001b[0m: 'numpy.ndarray' object has no attribute 'points'"
     ]
    }
   ],
   "source": [
    "#Import from file. Could be web or others in the future\n",
    "fileName = 'noun-gutenberg-press-86670-cleaned.svg'\n",
    "#fileName = 'noun-houseplants-886781-edited.svg'\n",
    "#fileName = 'noun-ornaments-714185-cleaned.svg'\n",
    "blk.readSVGFromFile(fileName)\n",
    "\n",
    "#Parse using svgpathtools and 'return' paths and attribs.\n",
    "#Could probably have some checks to make sure paths exist and are closed?\n",
    "blk.parseSVG()\n",
    "\n",
    "#See how many paths were parsed\n",
    "print('Paths Found: %s' % format(blk.pathCount))\n",
    "\n",
    "#Fillet outer edges. This value is usually close to the scale set below\n",
    "# It is updated when setScale is called by multiplying filletAmount by\n",
    "# the scale set\n",
    "blk.filletAmount = 0.2\n",
    "\n",
    "#Before setting scale, update how much to extrude the SVG. This is affected\n",
    "# when the scale is set below.\n",
    "blk.neckHeight = 1\n",
    "\n",
    "#Parsing SVG will provide the Height/Width if listed.\n",
    "#If the SVG is too large, the 3D block can be scaled. Ideally by factor of 10.\n",
    "# Must call doMath to generate values\n",
    "blk.setScale(10)\n",
    "\n",
    "#With the scale set, start calculating heights and widths\n",
    "blk.doMath()\n",
    "\n",
    "#Skip paths. Helpful for testing or omitting paths. \n",
    "#Needs to be tested\n",
    "#blk.skipPathNumber.append([100,200])\n",
    "\n",
    "#Do the actual translation from 2D to 3D\n",
    "blk.translate2Dto3D()\n",
    "\n",
    "#Add some buffer space around the 2D SVG. Must be >1.0. \n",
    "#Must be called before building body\n",
    "blk.xLenAdj = 1.25\n",
    "blk.yLenAdj = 1.25\n",
    "\n",
    "#Extrude basic block\n",
    "blk.buildBody()\n",
    "\n",
    "#Adjust the x/y of the hollow box to be cut out. This is a percentage\n",
    "# of the overal x/y of the block body. Must be < 1. Default: 0.8\n",
    "# The smaller the number, the larger the hollow area\n",
    "blk.xhollowPercentage = 0.7\n",
    "blk.yhollowPercentage = 0.8\n",
    "\n",
    "#\n",
    "blk.hollowBody()\n",
    "blk.createAndCutPyramid()\n",
    "\n",
    "#Height of the feet cutout can be adjusted. This is in percentage\n",
    "# of the total block height. This is usually a small number <0.2\n",
    "blk.feetCutOutPercentage = 0.08\n",
    "blk.cutFeet()\n",
    "\n",
    "#Smooth out the block edges a bit\n",
    "blk.smoothOuterEdges()\n",
    "\n",
    "#Export to STL file. If scale is anything by 1, it will scale the STL.\n",
    "# STL only needs to be scaled in the Z direction. By default, it'll\n",
    "# scale by XYZ.\n",
    "blk.exportSTL()\n",
    "\n",
    "#https://stackoverflow.com/questions/65241421/scaling-stl-mesh-object-in-python"
   ]
  },
  {
   "cell_type": "code",
   "execution_count": null,
   "id": "ec32f09c-e69e-48f8-924a-fc7c230e95b0",
   "metadata": {},
   "outputs": [],
   "source": [
    "show_object(blk.base)"
   ]
  },
  {
   "cell_type": "code",
   "execution_count": null,
   "id": "9f2f3226-8ac0-4e82-84a1-49091c162669",
   "metadata": {},
   "outputs": [],
   "source": []
  }
 ],
 "metadata": {
  "kernelspec": {
   "display_name": "Python 3 (ipykernel)",
   "language": "python",
   "name": "python3"
  },
  "language_info": {
   "codemirror_mode": {
    "name": "ipython",
    "version": 3
   },
   "file_extension": ".py",
   "mimetype": "text/x-python",
   "name": "python",
   "nbconvert_exporter": "python",
   "pygments_lexer": "ipython3",
   "version": "3.10.14"
  }
 },
 "nbformat": 4,
 "nbformat_minor": 5
}
