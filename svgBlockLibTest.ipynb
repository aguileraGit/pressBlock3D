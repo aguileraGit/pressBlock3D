{
 "cells": [
  {
   "cell_type": "code",
   "execution_count": 1,
   "id": "40069fe3-eda6-46db-965c-60f8bfc45be2",
   "metadata": {},
   "outputs": [
    {
     "name": "stdout",
     "output_type": "stream",
     "text": [
      "Overwriting auto display for cadquery Workplane and Shape\n",
      "\n",
      "Enabling jupyter_cadquery replay\n"
     ]
    }
   ],
   "source": [
    "import svgBlockLib\n",
    "\n",
    "from jupyter_cadquery import (\n",
    "    PartGroup, Part, Edges, Faces, Vertices, show,\n",
    "    close_viewer, close_viewers, get_viewer, open_viewer, set_defaults, get_defaults\n",
    ")\n",
    "\n",
    "from jupyter_cadquery.replay import replay, enable_replay, disable_replay, reset_replay\n",
    "\n",
    "set_defaults(axes=True, timeit=False, show_parent=False)\n",
    "\n",
    "enable_replay(False, False)\n",
    "show_object = replay\n",
    "\n",
    "cv = open_viewer(\"3dViewer\", anchor=\"right\", height=1024)"
   ]
  },
  {
   "cell_type": "code",
   "execution_count": 2,
   "id": "22cee1b4-21a7-4da9-9243-4309de65f92f",
   "metadata": {},
   "outputs": [],
   "source": [
    "blk = svgBlockLib.blkLibrary()"
   ]
  },
  {
   "cell_type": "code",
   "execution_count": 3,
   "id": "8f3a35d8-fcbf-48a2-84ee-53e4c41af0ad",
   "metadata": {},
   "outputs": [
    {
     "name": "stdout",
     "output_type": "stream",
     "text": [
      "Paths Found: 12\n",
      "Start Path\n"
     ]
    },
    {
     "ename": "AttributeError",
     "evalue": "'blkLibrary' object has no attribute 'moveTo'",
     "output_type": "error",
     "traceback": [
      "\u001b[0;31m---------------------------------------------------------------------------\u001b[0m",
      "\u001b[0;31mAttributeError\u001b[0m                            Traceback (most recent call last)",
      "Cell \u001b[0;32mIn[3], line 17\u001b[0m\n\u001b[1;32m     14\u001b[0m blk\u001b[38;5;241m.\u001b[39mskipPathNumber\u001b[38;5;241m.\u001b[39mappend([\u001b[38;5;241m100\u001b[39m,\u001b[38;5;241m200\u001b[39m])\n\u001b[1;32m     16\u001b[0m \u001b[38;5;66;03m#Do the actual translation\u001b[39;00m\n\u001b[0;32m---> 17\u001b[0m \u001b[43mblk\u001b[49m\u001b[38;5;241;43m.\u001b[39;49m\u001b[43mtranslate2Dto3D\u001b[49m\u001b[43m(\u001b[49m\u001b[43m)\u001b[49m\n",
      "File \u001b[0;32m~/svgBlockLib/svgBlockLib.py:65\u001b[0m, in \u001b[0;36mblkLibrary.translate2Dto3D\u001b[0;34m(self)\u001b[0m\n\u001b[1;32m     58\u001b[0m \u001b[38;5;28;01mfor\u001b[39;00m idx, path \u001b[38;5;129;01min\u001b[39;00m \u001b[38;5;28menumerate\u001b[39m(\u001b[38;5;28mself\u001b[39m\u001b[38;5;241m.\u001b[39mpaths):\n\u001b[1;32m     59\u001b[0m     \u001b[38;5;66;03m#print(idx)\u001b[39;00m\n\u001b[1;32m     61\u001b[0m     \u001b[38;5;28;01mif\u001b[39;00m idx \u001b[38;5;129;01mnot\u001b[39;00m \u001b[38;5;129;01min\u001b[39;00m \u001b[38;5;28mself\u001b[39m\u001b[38;5;241m.\u001b[39mskipPathNumber:\n\u001b[1;32m     62\u001b[0m         svgPath \u001b[38;5;241m=\u001b[39m (\n\u001b[1;32m     63\u001b[0m             \u001b[38;5;28;43mself\u001b[39;49m\u001b[38;5;241;43m.\u001b[39;49m\u001b[43mbase\u001b[49m\n\u001b[1;32m     64\u001b[0m \u001b[43m            \u001b[49m\u001b[38;5;241;43m.\u001b[39;49m\u001b[43mworkplaneFromTagged\u001b[49m\u001b[43m(\u001b[49m\u001b[38;5;124;43m'\u001b[39;49m\u001b[38;5;124;43mworkFace\u001b[39;49m\u001b[38;5;124;43m'\u001b[39;49m\u001b[43m)\u001b[49m\n\u001b[0;32m---> 65\u001b[0m \u001b[43m            \u001b[49m\u001b[38;5;241;43m.\u001b[39;49m\u001b[43maddSvgPath\u001b[49m\u001b[43m(\u001b[49m\u001b[43mpath\u001b[49m\u001b[43m)\u001b[49m\n\u001b[1;32m     66\u001b[0m             \u001b[38;5;241m.\u001b[39mextrude(\u001b[38;5;241m10\u001b[39m, clean\u001b[38;5;241m=\u001b[39m\u001b[38;5;28;01mTrue\u001b[39;00m)\n\u001b[1;32m     67\u001b[0m         )\n\u001b[1;32m     68\u001b[0m     \u001b[38;5;28mself\u001b[39m\u001b[38;5;241m.\u001b[39mbase \u001b[38;5;241m=\u001b[39m \u001b[38;5;28mself\u001b[39m\u001b[38;5;241m.\u001b[39mbase\u001b[38;5;241m.\u001b[39munion(svgPath, glue \u001b[38;5;241m=\u001b[39m \u001b[38;5;28;01mTrue\u001b[39;00m)\n",
      "File \u001b[0;32m/opt/conda/envs/cq/lib/python3.10/site-packages/jupyter_cadquery/replay.py:203\u001b[0m, in \u001b[0;36m_add_context.<locals>.intercept.<locals>.f\u001b[0;34m(*args, **kwargs)\u001b[0m\n\u001b[1;32m    200\u001b[0m     _CTX\u001b[38;5;241m.\u001b[39mupdate(func\u001b[38;5;241m.\u001b[39m\u001b[38;5;18m__name__\u001b[39m, args, kwargs)\n\u001b[1;32m    201\u001b[0m     _trace(_CTX)\n\u001b[0;32m--> 203\u001b[0m result \u001b[38;5;241m=\u001b[39m \u001b[43mfunc\u001b[49m\u001b[43m(\u001b[49m\u001b[38;5;241;43m*\u001b[39;49m\u001b[43margs\u001b[49m\u001b[43m,\u001b[49m\u001b[43m \u001b[49m\u001b[38;5;241;43m*\u001b[39;49m\u001b[38;5;241;43m*\u001b[39;49m\u001b[43mkwargs\u001b[49m\u001b[43m)\u001b[49m\n\u001b[1;32m    205\u001b[0m \u001b[38;5;28;01mif\u001b[39;00m func\u001b[38;5;241m.\u001b[39m\u001b[38;5;18m__name__\u001b[39m \u001b[38;5;241m==\u001b[39m _CTX\u001b[38;5;241m.\u001b[39mfunc:\n\u001b[1;32m    206\u001b[0m     _CTX\u001b[38;5;241m.\u001b[39mobj \u001b[38;5;241m=\u001b[39m result\n",
      "File \u001b[0;32m~/svgBlockLib/svgBlockLib.py:177\u001b[0m, in \u001b[0;36mblkLibrary.addSvgPath\u001b[0;34m(self, path)\u001b[0m\n\u001b[1;32m    175\u001b[0m \u001b[38;5;28;01mif\u001b[39;00m path_start \u001b[38;5;129;01mis\u001b[39;00m \u001b[38;5;28;01mNone\u001b[39;00m:\n\u001b[1;32m    176\u001b[0m     path_start \u001b[38;5;241m=\u001b[39m p\u001b[38;5;241m.\u001b[39mstart\n\u001b[0;32m--> 177\u001b[0m res \u001b[38;5;241m=\u001b[39m \u001b[43mres\u001b[49m\u001b[38;5;241;43m.\u001b[39;49m\u001b[43mmoveTo\u001b[49m(\u001b[38;5;241m*\u001b[39mtpl(p\u001b[38;5;241m.\u001b[39mstart))\n\u001b[1;32m    180\u001b[0m \u001b[38;5;66;03m# Support the four svgpathtools different objects\u001b[39;00m\n\u001b[1;32m    181\u001b[0m \u001b[38;5;28;01mif\u001b[39;00m \u001b[38;5;28misinstance\u001b[39m(p, svgpathtools\u001b[38;5;241m.\u001b[39mCubicBezier):\n",
      "\u001b[0;31mAttributeError\u001b[0m: 'blkLibrary' object has no attribute 'moveTo'"
     ]
    }
   ],
   "source": [
    "#Import from file. Could be web or others in the future\n",
    "fileName = 'noun-printing-press-11880-cleaned.svg'\n",
    "blk.readSVGFromFile(fileName)\n",
    "\n",
    "#Parse using svgpathtools and 'return' paths and attribs.\n",
    "#Could probably have some checks to make sure paths exist and are closed?\n",
    "blk.parseSVG()\n",
    "\n",
    "#See how many paths were parsed\n",
    "print('Paths Found: %s' % format(blk.pathCount))\n",
    "\n",
    "#Skip paths. Helpful for testing or omitting paths. \n",
    "#Needs to be tested\n",
    "blk.skipPathNumber.append([100,200])\n",
    "\n",
    "#Do the actual translation\n",
    "blk.translate2Dto3D()"
   ]
  },
  {
   "cell_type": "code",
   "execution_count": null,
   "id": "ec32f09c-e69e-48f8-924a-fc7c230e95b0",
   "metadata": {},
   "outputs": [],
   "source": [
    "show_object(blk)"
   ]
  }
 ],
 "metadata": {
  "kernelspec": {
   "display_name": "Python 3 (ipykernel)",
   "language": "python",
   "name": "python3"
  },
  "language_info": {
   "codemirror_mode": {
    "name": "ipython",
    "version": 3
   },
   "file_extension": ".py",
   "mimetype": "text/x-python",
   "name": "python",
   "nbconvert_exporter": "python",
   "pygments_lexer": "ipython3",
   "version": "3.10.14"
  }
 },
 "nbformat": 4,
 "nbformat_minor": 5
}
