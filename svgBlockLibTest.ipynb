{
 "cells": [
  {
   "cell_type": "code",
   "execution_count": 13,
   "id": "40069fe3-eda6-46db-965c-60f8bfc45be2",
   "metadata": {},
   "outputs": [
    {
     "name": "stdout",
     "output_type": "stream",
     "text": [
      "\n",
      "Enabling jupyter_cadquery replay\n"
     ]
    }
   ],
   "source": [
    "import svgBlockLib\n",
    "\n",
    "from jupyter_cadquery import (\n",
    "    PartGroup, Part, Edges, Faces, Vertices, show,\n",
    "    close_viewer, close_viewers, get_viewer, open_viewer, set_defaults, get_defaults\n",
    ")\n",
    "\n",
    "from jupyter_cadquery.replay import replay, enable_replay, disable_replay, reset_replay\n",
    "\n",
    "set_defaults(axes=True, timeit=False, show_parent=False)\n",
    "\n",
    "enable_replay(False, False)\n",
    "show_object = replay\n",
    "\n",
    "cv = open_viewer(\"3dViewer\", anchor=\"right\", height=1024)"
   ]
  },
  {
   "cell_type": "code",
   "execution_count": 14,
   "id": "22cee1b4-21a7-4da9-9243-4309de65f92f",
   "metadata": {},
   "outputs": [],
   "source": [
    "blk = svgBlockLib.blkLibrary()"
   ]
  },
  {
   "cell_type": "code",
   "execution_count": 15,
   "id": "8f3a35d8-fcbf-48a2-84ee-53e4c41af0ad",
   "metadata": {},
   "outputs": [
    {
     "name": "stdout",
     "output_type": "stream",
     "text": [
      "Paths Found: 1\n"
     ]
    }
   ],
   "source": [
    "#Import from file. Could be web or others in the future\n",
    "#fileName = 'noun-gutenberg-press-86670-cleaned.svg'\n",
    "#fileName = 'noun-houseplants-6613684.svg'\n",
    "#fileName = 'noun-houseplants-886781-edited.svg'\n",
    "fileName = 'noun-ornaments-714185-cleaned.svg'\n",
    "blk.readSVGFromFile(fileName)\n",
    "\n",
    "#Parse using svgpathtools and 'return' paths and attribs.\n",
    "#Could probably have some checks to make sure paths exist and are closed?\n",
    "blk.parseSVG()\n",
    "\n",
    "#See how many paths were parsed\n",
    "print('Paths Found: %s' % format(blk.pathCount))\n",
    "\n",
    "#Skip paths. Helpful for testing or omitting paths. \n",
    "#Needs to be tested\n",
    "#blk.skipPathNumber.append([100,200])\n",
    "\n",
    "#Do the actual translation from 2D to 3D\n",
    "blk.translate2Dto3D()\n",
    "\n",
    "blk.neckHeight = 2\n",
    "\n",
    "blk.xLenAdj = 1.25\n",
    "blk.yLenAdj = 1.25\n",
    "blk.buildBody()"
   ]
  },
  {
   "cell_type": "code",
   "execution_count": 16,
   "id": "ec32f09c-e69e-48f8-924a-fc7c230e95b0",
   "metadata": {},
   "outputs": [
    {
     "name": "stdout",
     "output_type": "stream",
     "text": [
      "Use the multi select box below to select one or more steps you want to examine\n"
     ]
    },
    {
     "data": {
      "application/vnd.jupyter.widget-view+json": {
       "model_id": "4866025cb993432d8add53cda4361a7f",
       "version_major": 2,
       "version_minor": 0
      },
      "text/plain": [
       "HBox(children=(SelectMultiple(_dom_classes=('monospace',), index=(10,), layout=Layout(width='600px'), options=…"
      ]
     },
     "metadata": {},
     "output_type": "display_data"
    },
    {
     "data": {
      "text/plain": [
       "<jupyter_cadquery.replay.Replay at 0x7b5f6e9853c0>"
      ]
     },
     "execution_count": 16,
     "metadata": {},
     "output_type": "execute_result"
    }
   ],
   "source": [
    "show_object(blk.base)"
   ]
  },
  {
   "cell_type": "code",
   "execution_count": null,
   "id": "9f2f3226-8ac0-4e82-84a1-49091c162669",
   "metadata": {},
   "outputs": [],
   "source": []
  }
 ],
 "metadata": {
  "kernelspec": {
   "display_name": "Python 3 (ipykernel)",
   "language": "python",
   "name": "python3"
  },
  "language_info": {
   "codemirror_mode": {
    "name": "ipython",
    "version": 3
   },
   "file_extension": ".py",
   "mimetype": "text/x-python",
   "name": "python",
   "nbconvert_exporter": "python",
   "pygments_lexer": "ipython3",
   "version": "3.10.14"
  }
 },
 "nbformat": 4,
 "nbformat_minor": 5
}
