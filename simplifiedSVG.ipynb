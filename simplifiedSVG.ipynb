{
 "cells": [
  {
   "cell_type": "code",
   "execution_count": 40,
   "id": "82fc0f53-6778-42ba-ae0e-5295f058ece0",
   "metadata": {},
   "outputs": [
    {
     "name": "stdout",
     "output_type": "stream",
     "text": [
      "\n",
      "Enabling jupyter_cadquery replay\n"
     ]
    }
   ],
   "source": [
    "from jupyter_cadquery import (\n",
    "    PartGroup, Part, Edges, Faces, Vertices, show,\n",
    "    close_viewer, close_viewers, get_viewer, open_viewer, set_defaults, get_defaults\n",
    ")\n",
    "\n",
    "from jupyter_cadquery.replay import replay, enable_replay, disable_replay, reset_replay\n",
    "\n",
    "set_defaults(axes=True, timeit=False, show_parent=False)\n",
    "\n",
    "enable_replay(False, False)\n",
    "show_object = replay\n",
    "\n",
    "cv = open_viewer(\"3dViewer\", anchor=\"right\", height=1024)"
   ]
  },
  {
   "cell_type": "code",
   "execution_count": 41,
   "id": "7cfb374f-4d88-4e7a-ae47-28528bf8bc54",
   "metadata": {
    "tags": []
   },
   "outputs": [
    {
     "name": "stdout",
     "output_type": "stream",
     "text": [
      "Paths Found: 1\n",
      "0\n",
      "Start Path\n",
      "Done Building SVG\n"
     ]
    }
   ],
   "source": [
    "import svgpathtools\n",
    "from svgpathtools import svg2paths\n",
    "import cadquery as cq\n",
    "import numpy as np\n",
    "from math import sin, cos, sqrt, pi, acos, fmod, degrees\n",
    "\n",
    "######################################################################\n",
    "#  A proof of concept adding a svg path into a cadQuery Workspace\n",
    "#  object.\n",
    "#\n",
    "#  This file is in the public domain.\n",
    "#\n",
    "#  Dov Grobgeld <dov.grobgeld@gmail.com>\n",
    "#  2024-03-10 Sun\n",
    "######################################################################\n",
    "\n",
    "\n",
    "def tpl(cplx):\n",
    "  '''Convert a complex number to a tuple'''\n",
    "  return (cplx.real,cplx.imag)\n",
    "\n",
    "def angle_between(u,v):\n",
    "  '''Find the angle between the vectors u an v'''\n",
    "  ux,uy = u\n",
    "  vx,vy = v\n",
    "  sign = 1 if ux*vy-uy*vx > 0 else -1\n",
    "  arg = (ux*vx+uy*vy)/(sqrt(ux*ux+uy*uy)*sqrt(vx*vx+vy*vy))\n",
    "  return sign*acos(arg)\n",
    "\n",
    "# Implementation of https://www.w3.org/TR/SVG/implnote.html#ArcConversionCenterToEndpoint\n",
    "def arc_endpoint_to_center(\n",
    "  start,\n",
    "  end,\n",
    "  flag_a,\n",
    "  flag_s,\n",
    "  radius,\n",
    "  phi):\n",
    "  '''Convert a endpoint elliptical arc description to a center description'''\n",
    "  rx,ry = radius.real,radius.imag\n",
    "  x1,y1 = start.real,start.imag\n",
    "  x2,y2 = end.real,end.imag\n",
    "  \n",
    "  cosphi = cos(phi)\n",
    "  sinphi = sin(phi)\n",
    "  rx2 = rx*rx\n",
    "  ry2 = ry*ry\n",
    "\n",
    "  # Step 1. Compute x1p,y1p\n",
    "  x1p,y1p = (np.array([[cosphi,sinphi],\n",
    "                       [-sinphi,cosphi]])\n",
    "             @ np.array([x1-x2, y1-y2])*0.5).flatten()\n",
    "  x1p2 = x1p*x1p\n",
    "  y1p2 = y1p*y1p\n",
    "\n",
    "  # Step 2: Compute (cx', cy')\n",
    "  cxyp = sqrt((rx2*ry2 - rx2*y1p2 - ry2*x1p2)\n",
    "              / (rx2*y1p2 + ry2*x1p2)) * np.array([rx*y1p/ry,-ry*x1p/rx])\n",
    "\n",
    "  if flag_a == flag_s:\n",
    "    cxyp = -cxyp\n",
    "\n",
    "  cxp,cyp = cxyp.flatten()\n",
    "\n",
    "  # Step 3: compute (cx,cy) from (cx',cy')\n",
    "  cx,cy = (cosphi*cxp - sinphi * cyp + 0.5*(x1+x2),\n",
    "           sinphi*cxp + cosphi * cyp + 0.5*(y1+y2))\n",
    "\n",
    "  # Step 4: compute theta1 and deltatheta\n",
    "  theta1 = angle_between((1,0), ((x1p-cxp)/rx, (y1p-cyp)/ry))\n",
    "  delta_theta = fmod(angle_between(((x1p-cxp)/rx,(y1p-cyp)/ry),\n",
    "                                   ((-x1p-cxp)/rx, (-y1p-cyp)/ry)),2*pi)\n",
    "\n",
    "  # Choose the right edge according to the flags\n",
    "  if not flag_s and delta_theta > 0:\n",
    "    delta_theta -= 2*pi\n",
    "  elif flag_s and delta_theta < 0:\n",
    "    delta_theta += 2*pi\n",
    "    \n",
    "  return (cx,cy), theta1, delta_theta\n",
    "\n",
    "def compare_complex(num1, num2, tolerance):\n",
    "  \"\"\"\n",
    "  Compares two complex numbers using a given tolerance for both the real and imaginary parts.\n",
    "\n",
    "  :param num1: The first complex number to be compared.\n",
    "  :param num2: The second complex number to be compared.\n",
    "  :param tolerance: The tolerance to use when comparing the real and imaginary parts of the numbers.\n",
    "\n",
    "  :return: True if the real and imaginary parts of the two complex numbers are within the given tolerance, False otherwise.\n",
    "  \"\"\"\n",
    "  # Check that the input is valid\n",
    "  if not (isinstance(num1, complex) and isinstance(num2, complex)):\n",
    "    raise ValueError(\"Both inputs must be complex numbers\")\n",
    "\n",
    "  # Check that the tolerance is valid\n",
    "  if not (isinstance(tolerance, float) or isinstance(tolerance, int)):\n",
    "    raise ValueError(\"Tolerance must be a number\")\n",
    "\n",
    "  # Check that the real and imaginary parts of the two complex numbers are within the given tolerance\n",
    "  if abs(num1.real - num2.real) < tolerance and abs(num1.imag - num2.imag) < tolerance:\n",
    "     return True\n",
    "\n",
    "  return False\n",
    "\n",
    "def addSvgPath(self, path):\n",
    "  '''\n",
    "  Add the svg path object to the current workspace\n",
    "  The p in path below is each movement in the path, where the movement\n",
    "  can be a line, cubic/quad curve, or arc.\n",
    "  \n",
    "  The first p must be either a point or a move to that point.\n",
    "  \n",
    "  All p's are translated using bezier, ellipseArc commands and added\n",
    "  to res (I assume res = result).\n",
    "  '''\n",
    "\n",
    "  print('Start Path')\n",
    "\n",
    "  res = self\n",
    "  path_start = None\n",
    "  arc_id = 0\n",
    "  for p in path:\n",
    "    #print('path element to add: ',p)\n",
    "    if path_start is None:\n",
    "        path_start = p.start\n",
    "    res = res.moveTo(*tpl(p.start))\n",
    "\n",
    "    # Support the four svgpathtools different objects\n",
    "    if isinstance(p, svgpathtools.CubicBezier):\n",
    "      coords = (tpl(p.start), tpl(p.control1), tpl(p.control2), tpl(p.end))\n",
    "      res = res.bezier(coords)\n",
    "    elif isinstance(p, svgpathtools.QuadraticBezier):\n",
    "      coords = (tpl(p.start), tpl(p.control), tpl(p.end))\n",
    "      res = res.bezier(coords)\n",
    "      pass\n",
    "    elif isinstance(p, svgpathtools.Arc):\n",
    "      arc_id += 1\n",
    "      center,theta1,delta_theta = arc_endpoint_to_center(\n",
    "        p.start,\n",
    "        p.end,\n",
    "        p.large_arc,\n",
    "        p.sweep,\n",
    "        p.radius,\n",
    "        p.rotation)\n",
    "\n",
    "      res = res.ellipseArc(\n",
    "        x_radius = p.radius.real,\n",
    "        y_radius = p.radius.imag,\n",
    "        rotation_angle=degrees(p.rotation),\n",
    "        angle1= degrees(theta1),\n",
    "        angle2=degrees(theta1+delta_theta)\n",
    "        )\n",
    "    elif isinstance(p, svgpathtools.Line):   \n",
    "      #Check to see if start and end points are the same - 0.001\n",
    "      samePoint = compare_complex(p.start, p.end, 0.001)\n",
    "      if samePoint:\n",
    "         #res = res.lineTo(p.end.real, p.end.imag)\n",
    "         pass\n",
    "         #print('Start and End are the same - skipping')\n",
    "      else:\n",
    "        #print('Adding line')\n",
    "        res = res.lineTo(p.end.real, p.end.imag)\n",
    "    \n",
    "    else:\n",
    "        print('Some other path type')\n",
    "      \n",
    "    if path_start == p.end:\n",
    "      path_start = None\n",
    "      res = res.close()\n",
    "\n",
    "  return res\n",
    "\n",
    "cq.Workplane.addSvgPath = addSvgPath\n",
    "\n",
    "#Load and print number of paths\n",
    "\n",
    "#Working\n",
    "#paths, attributes = svg2paths('noun-gutenberg-press-86670-cleaned.svg')\n",
    "#paths, attributes = svg2paths('noun-houseplants-886781-edited.svg')\n",
    "#paths, attributes = svg2paths('noun-ornaments-714185-cleaned.svg')\n",
    "#paths, attributes = svg2paths('noun-birthday-5954448.svg')\n",
    "paths, attributes = svg2paths('noun-houseplants-6613684.svg')\n",
    "\n",
    "#Not working\n",
    "#paths, attributes = svg2paths('noun-shape-2369275.svg')\n",
    "#paths, attributes = svg2paths('nomnoml-SVGOMG.svg')\n",
    "#paths, attributes = svg2paths('noun-complex-decoration-3061208.svg')\n",
    "#paths, attributes = svg2paths('noun-complex-flower-778213.svg')\n",
    "\n",
    "#To test/verify\n",
    "#paths, attributes = svg2paths('noun-door-open-5938229.svg') #Can't tell if some cuts are going the wrong way\n",
    "\n",
    "\n",
    "print('Paths Found: %s' % format(len(paths)))\n",
    "\n",
    "#Create work plane, draw SVG, and extrude\n",
    "guten = cq.Workplane('XY').tag('workFace')\n",
    "for idx, path in enumerate(paths):\n",
    "  print(idx)\n",
    "  #Skip path if needed. If not, set to some high number.\n",
    "  if idx < 50:\n",
    "    svgPath = (\n",
    "        guten\n",
    "        .workplaneFromTagged('workFace')\n",
    "        .addSvgPath(path)\n",
    "        .extrude(10, clean=True)\n",
    "    )\n",
    "    guten = guten.union(svgPath, glue = True)\n",
    "    #show_object(guten)\n",
    "\n",
    "print('Done Building SVG')\n",
    "\n",
    "bbox = guten.val().BoundingBox()"
   ]
  },
  {
   "cell_type": "code",
   "execution_count": 42,
   "id": "25223952-dad7-48d6-80d5-0ed090df8d8d",
   "metadata": {},
   "outputs": [
    {
     "name": "stdout",
     "output_type": "stream",
     "text": [
      "47.898557677373134\n",
      "50.84826656024117\n",
      "89.13139732669647\n"
     ]
    }
   ],
   "source": [
    "print(bbox.center.x)\n",
    "print(bbox.xlen)\n",
    "print(bbox.ylen)"
   ]
  },
  {
   "cell_type": "code",
   "execution_count": 43,
   "id": "fa82e1cb-23af-4509-8f74-84b8acc36f00",
   "metadata": {},
   "outputs": [],
   "source": [
    "# https://stackoverflow.com/questions/77845206/cadquery-unexpected-valueerror-null-topods-shape-object-during-cut-operation\n",
    "guten = (\n",
    "    guten.workplaneFromTagged('workFace').workplane(offset = 0.0001)\n",
    "    .center(bbox.center.x, bbox.center.y)\n",
    "    .rect(bbox.xlen*1.25, bbox.ylen*1.25)\n",
    "    .extrude(-100, combine='a', clean=True)    \n",
    ")"
   ]
  },
  {
   "cell_type": "code",
   "execution_count": 44,
   "id": "e756462f-f76e-4ad7-9720-3335b3f4c7c6",
   "metadata": {},
   "outputs": [
    {
     "name": "stdout",
     "output_type": "stream",
     "text": [
      "Use the multi select box below to select one or more steps you want to examine\n"
     ]
    },
    {
     "data": {
      "application/vnd.jupyter.widget-view+json": {
       "model_id": "a62905419f88485e901d0a6d6d22a6ec",
       "version_major": 2,
       "version_minor": 0
      },
      "text/plain": [
       "HBox(children=(SelectMultiple(_dom_classes=('monospace',), index=(10,), layout=Layout(width='600px'), options=…"
      ]
     },
     "metadata": {},
     "output_type": "display_data"
    },
    {
     "data": {
      "text/plain": [
       "<jupyter_cadquery.replay.Replay at 0x78c4f5e645e0>"
      ]
     },
     "execution_count": 44,
     "metadata": {},
     "output_type": "execute_result"
    }
   ],
   "source": [
    "show_object(guten)"
   ]
  },
  {
   "cell_type": "code",
   "execution_count": null,
   "id": "4259da90-5d13-4f8f-b61e-fa445c423c42",
   "metadata": {},
   "outputs": [],
   "source": []
  }
 ],
 "metadata": {
  "kernelspec": {
   "display_name": "Python 3 (ipykernel)",
   "language": "python",
   "name": "python3"
  },
  "language_info": {
   "codemirror_mode": {
    "name": "ipython",
    "version": 3
   },
   "file_extension": ".py",
   "mimetype": "text/x-python",
   "name": "python",
   "nbconvert_exporter": "python",
   "pygments_lexer": "ipython3",
   "version": "3.10.14"
  }
 },
 "nbformat": 4,
 "nbformat_minor": 5
}
